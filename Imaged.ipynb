{
  "nbformat": 4,
  "nbformat_minor": 0,
  "metadata": {
    "colab": {
      "provenance": [],
      "gpuType": "T4"
    },
    "kernelspec": {
      "name": "python3",
      "display_name": "Python 3"
    },
    "language_info": {
      "name": "python"
    },
    "accelerator": "GPU"
  },
  "cells": [
    {
      "cell_type": "code",
      "source": [
        "!git clone https://github.com/Nsimaar99/udacityproject1.git\n"
      ],
      "metadata": {
        "colab": {
          "base_uri": "https://localhost:8080/"
        },
        "id": "8DMYExO4UQK1",
        "outputId": "d1fe2107-edb8-4315-95c9-77d5acfeecec"
      },
      "execution_count": null,
      "outputs": [
        {
          "output_type": "stream",
          "name": "stdout",
          "text": [
            "Cloning into 'udacityproject1'...\n",
            "remote: Enumerating objects: 55, done.\u001b[K\n",
            "remote: Counting objects: 100% (55/55), done.\u001b[K\n",
            "remote: Compressing objects: 100% (41/41), done.\u001b[K\n",
            "remote: Total 55 (delta 24), reused 36 (delta 12), pack-reused 0 (from 0)\u001b[K\n",
            "Receiving objects: 100% (55/55), 381.92 KiB | 1.64 MiB/s, done.\n",
            "Resolving deltas: 100% (24/24), done.\n"
          ]
        }
      ]
    },
    {
      "cell_type": "code",
      "source": [
        "!python /content/udacityproject1/train.py flowers --save_dir /content/ckpt --arch resnet50 --learning_rate 0.001 --epochs 5 --gpu\n"
      ],
      "metadata": {
        "colab": {
          "base_uri": "https://localhost:8080/"
        },
        "id": "K2hwpWaxVH7m",
        "outputId": "ff41367a-7902-4325-d80c-2701cd80bca1"
      },
      "execution_count": null,
      "outputs": [
        {
          "output_type": "stream",
          "name": "stdout",
          "text": [
            "[INFO] Directory created: ./flowers\n",
            "\n",
            "[INFO] Downloading the file 'flower_data.tar.gz' to ./flowers\n",
            "[INFO] 'flower_data.tar.gz' saved to ./flowers\n",
            "\n",
            "[INFO] Extracting the downloaded tarball to ./flowers\n",
            "[INFO] 'flower_data.tar.gz' extracted successfully to ./flowers\n",
            "\n",
            "[INFO] Deleting the tarball to save space.\n",
            "Downloading: \"https://download.pytorch.org/models/resnet50-11ad3fa6.pth\" to /root/.cache/torch/hub/checkpoints/resnet50-11ad3fa6.pth\n",
            "100% 97.8M/97.8M [00:00<00:00, 149MB/s]\n",
            "Epoch 1/5.. Train loss: 4.331.. Validation loss: 3.885.. Validation accuracy: 0.250\n",
            "Epoch 1/5.. Train loss: 3.546.. Validation loss: 3.003.. Validation accuracy: 0.366\n",
            "Epoch 1/5.. Train loss: 2.674.. Validation loss: 2.222.. Validation accuracy: 0.505\n",
            "Epoch 1/5.. Train loss: 1.982.. Validation loss: 1.647.. Validation accuracy: 0.651\n",
            "Epoch 1/5.. Train loss: 1.631.. Validation loss: 1.299.. Validation accuracy: 0.730\n",
            "Checkpoint saved: /content/ckpt/checkpoint.pth\n",
            "Epoch 2/5.. Train loss: 1.070.. Validation loss: 1.143.. Validation accuracy: 0.729\n",
            "Epoch 2/5.. Train loss: 1.093.. Validation loss: 0.924.. Validation accuracy: 0.790\n",
            "Epoch 2/5.. Train loss: 1.005.. Validation loss: 0.784.. Validation accuracy: 0.814\n",
            "Epoch 2/5.. Train loss: 0.905.. Validation loss: 0.718.. Validation accuracy: 0.843\n",
            "Epoch 2/5.. Train loss: 0.820.. Validation loss: 0.647.. Validation accuracy: 0.850\n",
            "Checkpoint saved: /content/ckpt/checkpoint.pth\n",
            "Epoch 3/5.. Train loss: 0.487.. Validation loss: 0.589.. Validation accuracy: 0.867\n",
            "Epoch 3/5.. Train loss: 0.706.. Validation loss: 0.596.. Validation accuracy: 0.868\n",
            "Epoch 3/5.. Train loss: 0.627.. Validation loss: 0.466.. Validation accuracy: 0.900\n",
            "Epoch 3/5.. Train loss: 0.617.. Validation loss: 0.487.. Validation accuracy: 0.894\n",
            "Epoch 3/5.. Train loss: 0.598.. Validation loss: 0.469.. Validation accuracy: 0.886\n",
            "Checkpoint saved: /content/ckpt/checkpoint.pth\n",
            "Epoch 4/5.. Train loss: 0.315.. Validation loss: 0.421.. Validation accuracy: 0.896\n",
            "Epoch 4/5.. Train loss: 0.533.. Validation loss: 0.420.. Validation accuracy: 0.903\n",
            "Epoch 4/5.. Train loss: 0.486.. Validation loss: 0.379.. Validation accuracy: 0.918\n",
            "Epoch 4/5.. Train loss: 0.477.. Validation loss: 0.388.. Validation accuracy: 0.912\n",
            "Epoch 4/5.. Train loss: 0.538.. Validation loss: 0.398.. Validation accuracy: 0.887\n",
            "Checkpoint saved: /content/ckpt/checkpoint.pth\n",
            "Epoch 5/5.. Train loss: 0.162.. Validation loss: 0.359.. Validation accuracy: 0.912\n",
            "Epoch 5/5.. Train loss: 0.442.. Validation loss: 0.367.. Validation accuracy: 0.907\n",
            "Epoch 5/5.. Train loss: 0.398.. Validation loss: 0.353.. Validation accuracy: 0.919\n",
            "Epoch 5/5.. Train loss: 0.439.. Validation loss: 0.337.. Validation accuracy: 0.924\n",
            "Epoch 5/5.. Train loss: 0.426.. Validation loss: 0.282.. Validation accuracy: 0.940\n",
            "Checkpoint saved: /content/ckpt/checkpoint.pth\n"
          ]
        }
      ]
    },
    {
      "cell_type": "code",
      "source": [
        "!python /content/udacityproject1/predict.py /content/udacityproject1/image_06743.jpg /content/ckpt/checkpoint.pth --top_k 5 --category_names /content/udacityproject1/cat_to_name.json --gpu\n"
      ],
      "metadata": {
        "colab": {
          "base_uri": "https://localhost:8080/"
        },
        "id": "UwpgBmJbVMRk",
        "outputId": "ae17c0ed-c812-4d67-ce33-0a547672edaa"
      },
      "execution_count": null,
      "outputs": [
        {
          "output_type": "stream",
          "name": "stdout",
          "text": [
            "Top 5 predictions for the image:\n",
            "1: pink primrose with probability 0.9892\n",
            "2: hibiscus with probability 0.0030\n",
            "3: petunia with probability 0.0029\n",
            "4: tree mallow with probability 0.0016\n",
            "5: watercress with probability 0.0014\n"
          ]
        }
      ]
    },
    {
      "cell_type": "code",
      "source": [],
      "metadata": {
        "id": "5Sq9ZVLV7Wuo"
      },
      "execution_count": null,
      "outputs": []
    }
  ]
}