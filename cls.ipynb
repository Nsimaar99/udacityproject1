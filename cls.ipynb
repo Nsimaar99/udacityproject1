{
  "nbformat": 4,
  "nbformat_minor": 0,
  "metadata": {
    "colab": {
      "provenance": [],
      "gpuType": "T4",
      "authorship_tag": "ABX9TyP4m+OdH4Z3xqjlIJxsCk32",
      "include_colab_link": true
    },
    "kernelspec": {
      "name": "python3",
      "display_name": "Python 3"
    },
    "language_info": {
      "name": "python"
    },
    "accelerator": "GPU"
  },
  "cells": [
    {
      "cell_type": "markdown",
      "metadata": {
        "id": "view-in-github",
        "colab_type": "text"
      },
      "source": [
        "<a href=\"https://colab.research.google.com/github/Nsimaar99/udacityproject1/blob/mr/cls.ipynb\" target=\"_parent\"><img src=\"https://colab.research.google.com/assets/colab-badge.svg\" alt=\"Open In Colab\"/></a>"
      ]
    },
    {
      "cell_type": "code",
      "source": [
        "!git clone https://github.com/Nsimaar99/udacityproject1.git\n"
      ],
      "metadata": {
        "colab": {
          "base_uri": "https://localhost:8080/"
        },
        "id": "8DMYExO4UQK1",
        "outputId": "a2436142-70a7-401e-b0f1-0bf715bcefe2"
      },
      "execution_count": 2,
      "outputs": [
        {
          "output_type": "stream",
          "name": "stdout",
          "text": [
            "Cloning into 'udacityproject1'...\n",
            "remote: Enumerating objects: 16, done.\u001b[K\n",
            "remote: Counting objects: 100% (16/16), done.\u001b[K\n",
            "remote: Compressing objects: 100% (11/11), done.\u001b[K\n",
            "remote: Total 16 (delta 4), reused 15 (delta 3), pack-reused 0 (from 0)\u001b[K\n",
            "Receiving objects: 100% (16/16), 6.97 KiB | 6.97 MiB/s, done.\n",
            "Resolving deltas: 100% (4/4), done.\n"
          ]
        }
      ]
    },
    {
      "cell_type": "code",
      "source": [
        "!python /content/udacityproject1/train.py flowers --save_dir /content/ckpt/ --arch resnet50 --learning_rate 0.001 --epochs 5 --gpu\n"
      ],
      "metadata": {
        "colab": {
          "base_uri": "https://localhost:8080/"
        },
        "id": "K2hwpWaxVH7m",
        "outputId": "f7d753d9-843b-4916-a662-a04decc14913"
      },
      "execution_count": 3,
      "outputs": [
        {
          "output_type": "stream",
          "name": "stdout",
          "text": [
            "[INFO] Directory created: ./flowers\n",
            "\n",
            "[INFO] Downloading the file 'flower_data.tar.gz' to ./flowers\n",
            "[INFO] 'flower_data.tar.gz' saved to ./flowers\n",
            "\n",
            "[INFO] Extracting the downloaded tarball to ./flowers\n",
            "[INFO] 'flower_data.tar.gz' extracted successfully to ./flowers\n",
            "\n",
            "[INFO] Deleting the tarball to save space.\n",
            "Downloading: \"https://download.pytorch.org/models/resnet50-11ad3fa6.pth\" to /root/.cache/torch/hub/checkpoints/resnet50-11ad3fa6.pth\n",
            "100% 97.8M/97.8M [00:00<00:00, 158MB/s]\n",
            "Epoch 1/5.. Train loss: 4.333.. Validation loss: 3.881.. Validation accuracy: 0.215\n",
            "Epoch 1/5.. Train loss: 3.539.. Validation loss: 3.032.. Validation accuracy: 0.399\n",
            "Epoch 1/5.. Train loss: 2.804.. Validation loss: 2.251.. Validation accuracy: 0.538\n",
            "Epoch 1/5.. Train loss: 2.130.. Validation loss: 1.659.. Validation accuracy: 0.670\n",
            "Epoch 1/5.. Train loss: 1.653.. Validation loss: 1.339.. Validation accuracy: 0.703\n",
            "Checkpoint saved: /content/ckpt/checkpoint.pth\n",
            "Epoch 2/5.. Train loss: 1.081.. Validation loss: 1.074.. Validation accuracy: 0.762\n",
            "Epoch 2/5.. Train loss: 1.109.. Validation loss: 0.935.. Validation accuracy: 0.787\n",
            "Epoch 2/5.. Train loss: 1.041.. Validation loss: 0.818.. Validation accuracy: 0.832\n",
            "Epoch 2/5.. Train loss: 0.917.. Validation loss: 0.739.. Validation accuracy: 0.836\n",
            "Epoch 2/5.. Train loss: 0.864.. Validation loss: 0.636.. Validation accuracy: 0.855\n",
            "Checkpoint saved: /content/ckpt/checkpoint.pth\n",
            "Epoch 3/5.. Train loss: 0.509.. Validation loss: 0.626.. Validation accuracy: 0.857\n",
            "Epoch 3/5.. Train loss: 0.702.. Validation loss: 0.562.. Validation accuracy: 0.866\n",
            "Epoch 3/5.. Train loss: 0.681.. Validation loss: 0.536.. Validation accuracy: 0.882\n",
            "Epoch 3/5.. Train loss: 0.682.. Validation loss: 0.500.. Validation accuracy: 0.883\n",
            "Epoch 3/5.. Train loss: 0.627.. Validation loss: 0.454.. Validation accuracy: 0.887\n",
            "Checkpoint saved: /content/ckpt/checkpoint.pth\n",
            "Epoch 4/5.. Train loss: 0.298.. Validation loss: 0.472.. Validation accuracy: 0.896\n",
            "Epoch 4/5.. Train loss: 0.533.. Validation loss: 0.423.. Validation accuracy: 0.899\n",
            "Epoch 4/5.. Train loss: 0.525.. Validation loss: 0.422.. Validation accuracy: 0.905\n",
            "Epoch 4/5.. Train loss: 0.500.. Validation loss: 0.399.. Validation accuracy: 0.904\n",
            "Epoch 4/5.. Train loss: 0.485.. Validation loss: 0.382.. Validation accuracy: 0.909\n",
            "Checkpoint saved: /content/ckpt/checkpoint.pth\n",
            "Epoch 5/5.. Train loss: 0.188.. Validation loss: 0.351.. Validation accuracy: 0.911\n",
            "Epoch 5/5.. Train loss: 0.433.. Validation loss: 0.344.. Validation accuracy: 0.915\n",
            "Epoch 5/5.. Train loss: 0.481.. Validation loss: 0.345.. Validation accuracy: 0.920\n",
            "Epoch 5/5.. Train loss: 0.446.. Validation loss: 0.352.. Validation accuracy: 0.920\n",
            "Epoch 5/5.. Train loss: 0.384.. Validation loss: 0.323.. Validation accuracy: 0.929\n",
            "Checkpoint saved: /content/ckpt/checkpoint.pth\n"
          ]
        }
      ]
    },
    {
      "cell_type": "code",
      "source": [
        "!python /content/udacityproject1/predict.py /content/image_06743.jpg /content/ckpt/checkpoint.pth --top_k 5 --category_names /path/to/cat_to_name.json --gpu\n"
      ],
      "metadata": {
        "colab": {
          "base_uri": "https://localhost:8080/"
        },
        "id": "UwpgBmJbVMRk",
        "outputId": "f986a7d9-4178-42d7-d7fb-19fecc331698"
      },
      "execution_count": 6,
      "outputs": [
        {
          "output_type": "stream",
          "name": "stdout",
          "text": [
            "/content/udacityproject1/predict.py:65: FutureWarning: You are using `torch.load` with `weights_only=False` (the current default value), which uses the default pickle module implicitly. It is possible to construct malicious pickle data which will execute arbitrary code during unpickling (See https://github.com/pytorch/pytorch/blob/main/SECURITY.md#untrusted-models for more details). In a future release, the default value for `weights_only` will be flipped to `True`. This limits the functions that could be executed during unpickling. Arbitrary objects will no longer be allowed to be loaded via this mode unless they are explicitly allowlisted by the user via `torch.serialization.add_safe_globals`. We recommend you start setting `weights_only=True` for any use case where you don't have full control of the loaded file. Please open an issue on GitHub for any issues related to this experimental feature.\n",
            "  checkpoint = torch.load(checkpoint_path)\n",
            "/usr/local/lib/python3.10/dist-packages/torchvision/models/_utils.py:208: UserWarning: The parameter 'pretrained' is deprecated since 0.13 and may be removed in the future, please use 'weights' instead.\n",
            "  warnings.warn(\n",
            "/usr/local/lib/python3.10/dist-packages/torchvision/models/_utils.py:223: UserWarning: Arguments other than a weight enum or `None` for 'weights' are deprecated since 0.13 and may be removed in the future. The current behavior is equivalent to passing `weights=None`.\n",
            "  warnings.warn(msg)\n",
            "Traceback (most recent call last):\n",
            "  File \"/content/udacityproject1/predict.py\", line 88, in <module>\n",
            "    main()\n",
            "  File \"/content/udacityproject1/predict.py\", line 81, in main\n",
            "    model = load_model(args.checkpoint)\n",
            "  File \"/content/udacityproject1/predict.py\", line 68, in load_model\n",
            "    model.load_state_dict(checkpoint['state_dict'])\n",
            "KeyError: 'state_dict'\n"
          ]
        }
      ]
    },
    {
      "cell_type": "code",
      "source": [],
      "metadata": {
        "id": "5Sq9ZVLV7Wuo"
      },
      "execution_count": null,
      "outputs": []
    }
  ]
}